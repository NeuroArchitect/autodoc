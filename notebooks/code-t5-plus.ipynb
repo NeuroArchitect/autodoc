{
 "cells": [
  {
   "attachments": {},
   "cell_type": "markdown",
   "metadata": {},
   "source": [
    "# CODE T5+\n",
    "\n",
    "https://github.com/salesforce/CodeT5/tree/main/CodeT5%2B"
   ]
  },
  {
   "cell_type": "code",
   "execution_count": 7,
   "metadata": {},
   "outputs": [
    {
     "name": "stderr",
     "output_type": "stream",
     "text": [
      "Downloading (…)okenizer_config.json: 100%|██████████| 284/284 [00:00<00:00, 227kB/s]\n",
      "Downloading (…)olve/main/vocab.json: 100%|██████████| 798k/798k [00:00<00:00, 185MB/s]\n",
      "Downloading (…)olve/main/merges.txt: 100%|██████████| 456k/456k [00:00<00:00, 237MB/s]\n",
      "Downloading (…)/main/tokenizer.json: 100%|██████████| 2.11M/2.11M [00:00<00:00, 128MB/s]\n",
      "Downloading (…)in/added_tokens.json: 100%|██████████| 1.08k/1.08k [00:00<00:00, 1.04MB/s]\n",
      "Downloading (…)cial_tokens_map.json: 100%|██████████| 131/131 [00:00<00:00, 134kB/s]\n",
      "Downloading (…)lve/main/config.json: 100%|██████████| 5.07k/5.07k [00:00<00:00, 4.53MB/s]\n",
      "Explicitly passing a `revision` is encouraged when loading a configuration with custom code to ensure no malicious code has been contributed in a newer revision.\n",
      "Downloading (…)iguration_codet5p.py: 100%|██████████| 4.07k/4.07k [00:00<00:00, 3.74MB/s]\n",
      "Explicitly passing a `revision` is encouraged when loading a model with custom code to ensure no malicious code has been contributed in a newer revision.\n",
      "Downloading (…)/modeling_codet5p.py: 100%|██████████| 43.4k/43.4k [00:00<00:00, 32.1MB/s]\n",
      "Downloading pytorch_model.bin: 100%|██████████| 6.45G/6.45G [01:49<00:00, 58.8MB/s]\n"
     ]
    }
   ],
   "source": [
    "from transformers import AutoModelForSeq2SeqLM, AutoTokenizer\n",
    "import torch\n",
    "\n",
    "checkpoint = \"Salesforce/codet5p-770m-py\"\n",
    "checkpoint = \"Salesforce/codet5p-2b\"\n",
    "device = \"cuda\" # for GPU usage or \"cpu\" for CPU usage\n",
    "\n",
    "tokenizer = AutoTokenizer.from_pretrained(checkpoint)\n",
    "model = AutoModelForSeq2SeqLM.from_pretrained(checkpoint,\n",
    "                                              torch_dtype=torch.float16,\n",
    "                                              low_cpu_mem_usage=True,\n",
    "                                              trust_remote_code=True).to(device)\n",
    "\n"
   ]
  },
  {
   "cell_type": "code",
   "execution_count": 9,
   "metadata": {},
   "outputs": [
    {
     "name": "stderr",
     "output_type": "stream",
     "text": [
      "The attention mask and the pad token id were not set. As a consequence, you may observe unexpected behavior. Please pass your input's `attention_mask` to obtain reliable results.\n",
      "Setting `pad_token_id` to `eos_token_id`:50256 for open-end generation.\n"
     ]
    },
    {
     "name": "stdout",
     "output_type": "stream",
     "text": [
      "\"(?P<print_hello>print_hello\\(\\)): (?P<print_hello_result>.*)$\"\n",
      "\n",
      "def print_hello(a, b):\n",
      "   print(a, b)\n",
      "\n",
      "def main():\n",
      "   print_hello(\"Hello\", \"World\")\n",
      "\n",
      "if __name__ == \"__main__\":\n",
      "   main()\n",
      "\n",
      "print(re.match(print_hello_regex, \"print_hello(Hello, World)\").groupdict())\n",
      "\n",
      "print(re.match(print_hello_regex, \"print_hello(Hello, World)\").groups())\n",
      "\n",
      "print(re.match(print_hello_regex, \"print_hello(Hello, World)\").group())\n",
      "\n",
      "print(re.match(print_hello_regex, \"print_hello(Hello, World)\").groups())\n",
      "\n",
      "print(re.match(print_hello_regex, \"print_hello(Hello, World)\").groupdict())\n",
      "\n",
      "print(re.match(print_hello_regex, \"print_hello(Hello, World)\").groups())\n",
      "\n",
      "print(re.match(print_hello_regex, \"print_hello(Hello, World)\").group())\n",
      "\n",
      "print(re.match(print_hello_regex, \"print_hello(Hello, World)\").groups())\n",
      "\n",
      "print(re.match(print_hello_regex, \"print_hello(Hello, World)\").groupdict())\n",
      "\n",
      "print(re.match(print_hello_regex, \"print_hello(Hello, World)\").groups())\n",
      "\n",
      "print(re.match(print_hello_regex, \"print_hello(Hello, World)\").group())\n",
      "\n",
      "print(re.match(print_hello_regex, \"print_hello(Hello, World)\").groups())\n",
      "\n",
      "print(re.match(print_hello_regex, \"print_hello(Hello, World)\").groupdict())\n",
      "\n",
      "print(re.match(print_hello_regex, \"print_hello(Hello, World)\").groups())\n",
      "\n",
      "print(re.match(print_hello_regex, \"print_hello(Hello, World)\").group())\n",
      "\n",
      "print(re.match(print_hello_regex, \"print_hello(Hello,\n"
     ]
    }
   ],
   "source": [
    "inputs = tokenizer.encode(\"add gooogle style documentation for this function:\\n def print_hello\", return_tensors=\"pt\").to(device)\n",
    "outputs = model.generate(inputs, max_length=512)\n",
    "print(tokenizer.decode(outputs[0], skip_special_tokens=True))"
   ]
  },
  {
   "cell_type": "code",
   "execution_count": null,
   "metadata": {},
   "outputs": [],
   "source": []
  }
 ],
 "metadata": {
  "kernelspec": {
   "display_name": "starcoder",
   "language": "python",
   "name": "python3"
  },
  "language_info": {
   "codemirror_mode": {
    "name": "ipython",
    "version": 3
   },
   "file_extension": ".py",
   "mimetype": "text/x-python",
   "name": "python",
   "nbconvert_exporter": "python",
   "pygments_lexer": "ipython3",
   "version": "3.8.16"
  },
  "orig_nbformat": 4
 },
 "nbformat": 4,
 "nbformat_minor": 2
}
